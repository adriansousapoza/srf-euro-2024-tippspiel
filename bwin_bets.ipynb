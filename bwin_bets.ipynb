{
 "cells": [
  {
   "cell_type": "code",
   "execution_count": 35,
   "metadata": {},
   "outputs": [],
   "source": [
    "from selenium import webdriver\n",
    "from selenium.webdriver.common.by import By\n",
    "from selenium.webdriver.chrome.service import Service\n",
    "from selenium.webdriver.chrome.options import Options\n",
    "from selenium.webdriver.support.ui import WebDriverWait\n",
    "from selenium.webdriver.support import expected_conditions as EC\n",
    "from webdriver_manager.chrome import ChromeDriverManager\n",
    "from bs4 import BeautifulSoup\n",
    "import pandas as pd\n",
    "import os\n",
    "import time\n",
    "\n",
    "# URL of the Bwin page\n",
    "url = 'https://sports.bwin.de/de/sports/events/polen-niederlande-2:6451440?tab=score'\n",
    "\n",
    "# Specify the path to the Brave or Chrome browser executable\n",
    "path_to_chrome = '/usr/bin/google-chrome'\n",
    "path_to_brave = '/snap/bin/brave'\n",
    "path = path_to_chrome"
   ]
  },
  {
   "cell_type": "code",
   "execution_count": 36,
   "metadata": {},
   "outputs": [
    {
     "name": "stdout",
     "output_type": "stream",
     "text": [
      "Selenium WebDriver started...\n",
      "Page https://sports.bwin.de/de/sports/events/polen-niederlande-2:6451440?tab=score opened...\n",
      "HTML content saved to page_content.txt\n"
     ]
    }
   ],
   "source": [
    "# Ensure the executable exists\n",
    "if not os.path.exists(path):\n",
    "    raise FileNotFoundError(f\"The specified browser executable does not exist: {path}\")\n",
    "\n",
    "# Set up Selenium\n",
    "options = Options()\n",
    "options.binary_location = path\n",
    "options.add_argument(\"--headless\")\n",
    "options.add_argument(\"--no-sandbox\")\n",
    "options.add_argument(\"--disable-dev-shm-usage\")\n",
    "\n",
    "# Initialize the WebDriver\n",
    "try:\n",
    "    driver = webdriver.Chrome(service=Service(ChromeDriverManager().install()), options=options)\n",
    "    print(\"Selenium WebDriver started...\")\n",
    "except Exception as e:\n",
    "    print(f\"Error initializing WebDriver: {e}\")\n",
    "    raise\n",
    "\n",
    "# Open the page\n",
    "try:\n",
    "    driver.get(url)\n",
    "    print(f\"Page {url} opened...\")\n",
    "    \n",
    "    # Wait for the page to load by waiting for a specific element to be present\n",
    "    WebDriverWait(driver, 10).until(EC.presence_of_element_located((By.CLASS_NAME, 'option-pick')))\n",
    "    time.sleep(5)  # Additional delay to ensure page content is fully loaded\n",
    "    \n",
    "    # Scroll to the bottom of the page to load all dynamic content\n",
    "    driver.execute_script(\"window.scrollTo(0, document.body.scrollHeight);\")\n",
    "    time.sleep(5)  # Wait for additional content to load\n",
    "except Exception as e:\n",
    "    print(f\"Error opening the page: {e}\")\n",
    "    driver.quit()\n",
    "    raise\n",
    "\n",
    "# Get the HTML content of the page\n",
    "try:\n",
    "    html_content = driver.page_source\n",
    "except Exception as e:\n",
    "    print(f\"Error getting page source: {e}\")\n",
    "    driver.quit()\n",
    "    raise\n",
    "\n",
    "# Save the HTML content to a text file\n",
    "with open(\"page_content.txt\", \"w\", encoding=\"utf-8\") as file:\n",
    "    file.write(html_content)\n",
    "\n",
    "print(\"HTML content saved to page_content.txt\")\n",
    "\n",
    "# Close the browser\n",
    "driver.quit()"
   ]
  },
  {
   "cell_type": "code",
   "execution_count": 37,
   "metadata": {},
   "outputs": [
    {
     "name": "stdout",
     "output_type": "stream",
     "text": [
      "Teams: Polen vs Niederlande\n",
      "Match Result: {}\n",
      "Empty DataFrame\n",
      "Columns: []\n",
      "Index: []\n"
     ]
    }
   ],
   "source": [
    "# Extract teams from the URL\n",
    "teams = url.split('/')[-1].split('-')[0:2]\n",
    "team1 = teams[0].capitalize()\n",
    "team2 = teams[1].capitalize()\n",
    "print(f\"Teams: {team1} vs {team2}\")\n",
    "\n",
    "# Read the HTML content from the file\n",
    "with open(\"page_content.txt\", \"r\", encoding=\"utf-8\") as file:\n",
    "    html_content = file.read()\n",
    "\n",
    "# Parse the HTML content with BeautifulSoup\n",
    "soup = BeautifulSoup(html_content, 'html.parser')\n",
    "\n",
    "# Extract match result (excluding over/under goals)\n",
    "event_picks = soup.find_all('ms-event-pick', class_='option-pick')\n",
    "match_result = {}\n",
    "\n",
    "for pick in event_picks:\n",
    "    name_tag = pick.find('div', class_='name')\n",
    "    value_tag = pick.find('div', class_='value')\n",
    "    if name_tag and value_tag:\n",
    "        team_name = name_tag.text.strip()\n",
    "        odds = value_tag.text.strip()\n",
    "        if 'Over' not in team_name and 'Under' not in team_name:\n",
    "            match_result[team_name] = odds\n",
    "\n",
    "print(f'Match Result: {match_result}')\n",
    "\n",
    "# Extract over/under goals within specified container class\n",
    "over_under_goals = []\n",
    "option_groups = soup.find_all('div', class_='option-group-container over-under-container triple')\n",
    "\n",
    "for group in option_groups:\n",
    "    goal_type_elements = group.find_all('div', class_='name ng-star-inserted')\n",
    "    probability_elements = group.find_all('div', class_='value option-value ng-star-inserted')\n",
    "    \n",
    "    for goal_type, probability in zip(goal_type_elements, probability_elements):\n",
    "        over_under_goals.append({\n",
    "            'Goal Type': goal_type.text.strip(),\n",
    "            'Probability': probability.text.strip()\n",
    "        })\n",
    "\n",
    "# Convert the list of dictionaries to a DataFrame\n",
    "df = pd.DataFrame(over_under_goals)\n",
    "print(df)\n"
   ]
  }
 ],
 "metadata": {
  "kernelspec": {
   "display_name": "base",
   "language": "python",
   "name": "python3"
  },
  "language_info": {
   "codemirror_mode": {
    "name": "ipython",
    "version": 3
   },
   "file_extension": ".py",
   "mimetype": "text/x-python",
   "name": "python",
   "nbconvert_exporter": "python",
   "pygments_lexer": "ipython3",
   "version": "3.11.7"
  }
 },
 "nbformat": 4,
 "nbformat_minor": 2
}
